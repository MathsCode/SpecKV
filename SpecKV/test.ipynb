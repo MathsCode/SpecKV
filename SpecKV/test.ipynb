{
 "cells": [
  {
   "cell_type": "code",
   "execution_count": 2,
   "id": "e3131502",
   "metadata": {},
   "outputs": [],
   "source": [
    "from transformers import AutoTokenizer\n",
    "tokenizer = AutoTokenizer.from_pretrained(\"/share/public/public_models/Llama-3.1-8B-Instruct\", use_fast=False)"
   ]
  },
  {
   "cell_type": "code",
   "execution_count": 6,
   "id": "b432790f",
   "metadata": {},
   "outputs": [
    {
     "data": {
      "text/plain": [
       "'The capital country city largest Capital official national answer main primary'"
      ]
     },
     "execution_count": 6,
     "metadata": {},
     "output_type": "execute_result"
    }
   ],
   "source": [
    "tokenizer.decode([  791,  6864,  3224,  3363,  7928, 18880,  4033,  5426,  4320,  1925,\n",
    "          6156])"
   ]
  },
  {
   "cell_type": "code",
   "execution_count": 9,
   "id": "173d4ad8",
   "metadata": {},
   "outputs": [
    {
     "data": {
      "text/plain": [
       "'<|begin_of_text|>'"
      ]
     },
     "execution_count": 9,
     "metadata": {},
     "output_type": "execute_result"
    }
   ],
   "source": [
    "tokenizer.decode([128000])"
   ]
  },
  {
   "cell_type": "code",
   "execution_count": 8,
   "id": "9aea398e",
   "metadata": {},
   "outputs": [
    {
     "data": {
      "text/plain": [
       "[128000, 791, 6864, 315, 5734, 374, 27647, 13]"
      ]
     },
     "execution_count": 8,
     "metadata": {},
     "output_type": "execute_result"
    }
   ],
   "source": [
    "tokenizer.encode(\"The capital of China is Beijing.\")"
   ]
  },
  {
   "cell_type": "code",
   "execution_count": null,
   "id": "c0cb189e",
   "metadata": {},
   "outputs": [],
   "source": []
  }
 ],
 "metadata": {
  "kernelspec": {
   "display_name": "speckv",
   "language": "python",
   "name": "python3"
  },
  "language_info": {
   "codemirror_mode": {
    "name": "ipython",
    "version": 3
   },
   "file_extension": ".py",
   "mimetype": "text/x-python",
   "name": "python",
   "nbconvert_exporter": "python",
   "pygments_lexer": "ipython3",
   "version": "3.12.0"
  }
 },
 "nbformat": 4,
 "nbformat_minor": 5
}
