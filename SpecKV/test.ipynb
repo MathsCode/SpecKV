{
 "cells": [
  {
   "cell_type": "code",
   "execution_count": null,
   "id": "e3131502",
   "metadata": {},
   "outputs": [],
   "source": [
    "a = (1,)\n",
    "b = ((1,2),)\n"
   ]
  },
  {
   "cell_type": "code",
   "execution_count": 12,
   "id": "8dd4b095",
   "metadata": {},
   "outputs": [
    {
     "data": {
      "text/plain": [
       "[1]"
      ]
     },
     "execution_count": 12,
     "metadata": {},
     "output_type": "execute_result"
    }
   ],
   "source": [
    "[1,]"
   ]
  },
  {
   "cell_type": "code",
   "execution_count": 3,
   "id": "6d6fd700",
   "metadata": {},
   "outputs": [
    {
     "data": {
      "text/plain": [
       "(10, 10)"
      ]
     },
     "execution_count": 3,
     "metadata": {},
     "output_type": "execute_result"
    }
   ],
   "source": [
    "output"
   ]
  },
  {
   "cell_type": "code",
   "execution_count": 6,
   "id": "b432790f",
   "metadata": {},
   "outputs": [
    {
     "data": {
      "text/plain": [
       "'The capital country city largest Capital official national answer main primary'"
      ]
     },
     "execution_count": 6,
     "metadata": {},
     "output_type": "execute_result"
    }
   ],
   "source": [
    "tokenizer.decode([  791,  6864,  3224,  3363,  7928, 18880,  4033,  5426,  4320,  1925,\n",
    "          6156])"
   ]
  },
  {
   "cell_type": "code",
   "execution_count": 9,
   "id": "173d4ad8",
   "metadata": {},
   "outputs": [
    {
     "data": {
      "text/plain": [
       "'<|begin_of_text|>'"
      ]
     },
     "execution_count": 9,
     "metadata": {},
     "output_type": "execute_result"
    }
   ],
   "source": [
    "tokenizer.decode([128000])"
   ]
  },
  {
   "cell_type": "code",
   "execution_count": 8,
   "id": "9aea398e",
   "metadata": {},
   "outputs": [
    {
     "data": {
      "text/plain": [
       "[128000, 791, 6864, 315, 5734, 374, 27647, 13]"
      ]
     },
     "execution_count": 8,
     "metadata": {},
     "output_type": "execute_result"
    }
   ],
   "source": [
    "tokenizer.encode(\"The capital of China is Beijing.\")"
   ]
  },
  {
   "cell_type": "code",
   "execution_count": null,
   "id": "c0cb189e",
   "metadata": {},
   "outputs": [],
   "source": []
  }
 ],
 "metadata": {
  "kernelspec": {
   "display_name": "speckv",
   "language": "python",
   "name": "python3"
  },
  "language_info": {
   "codemirror_mode": {
    "name": "ipython",
    "version": 3
   },
   "file_extension": ".py",
   "mimetype": "text/x-python",
   "name": "python",
   "nbconvert_exporter": "python",
   "pygments_lexer": "ipython3",
   "version": "3.12.0"
  }
 },
 "nbformat": 4,
 "nbformat_minor": 5
}
