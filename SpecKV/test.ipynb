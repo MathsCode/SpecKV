{
 "cells": [
  {
   "cell_type": "code",
   "execution_count": 2,
   "id": "e3131502",
   "metadata": {},
   "outputs": [],
   "source": [
    "import pickle \n",
    "import torch\n",
    "\n",
    "with open(\"/home/xujiaming/xujiaming/Paper/SpecKV/SpecKV/attn_data/ori_attn.pkl\",\"rb\") as f:\n",
    "    ori_attn = pickle.load(f)\n",
    "with open(\"/home/xujiaming/xujiaming/Paper/SpecKV/SpecKV/attn_data/spec_attn.pkl\",\"rb\") as f:\n",
    "    spec_attn = pickle.load(f)\n"
   ]
  },
  {
   "cell_type": "code",
   "execution_count": 3,
   "id": "38cb9775",
   "metadata": {},
   "outputs": [
    {
     "data": {
      "text/plain": [
       "torch.Size([1, 1, 158])"
      ]
     },
     "execution_count": 3,
     "metadata": {},
     "output_type": "execute_result"
    }
   ],
   "source": [
    "spec_attn[0][:,0].shape"
   ]
  },
  {
   "cell_type": "code",
   "execution_count": 17,
   "id": "8f582cd9",
   "metadata": {},
   "outputs": [
    {
     "data": {
      "text/plain": [
       "torch.Size([32, 32, 1, 159])"
      ]
     },
     "execution_count": 17,
     "metadata": {},
     "output_type": "execute_result"
    }
   ],
   "source": [
    "ori_attn[0].shape"
   ]
  },
  {
   "cell_type": "code",
   "execution_count": 4,
   "id": "c8b4287e",
   "metadata": {},
   "outputs": [],
   "source": [
    "spec_top_value, spec_top_index = torch.topk(spec_attn[0][:,0], int(spec_attn[0].shape[-1]*0.2), dim=-1)"
   ]
  },
  {
   "cell_type": "code",
   "execution_count": 14,
   "id": "68d9b1e2",
   "metadata": {},
   "outputs": [
    {
     "data": {
      "text/plain": [
       "torch.Size([31])"
      ]
     },
     "execution_count": 14,
     "metadata": {},
     "output_type": "execute_result"
    }
   ],
   "source": [
    "spec_top_index.flatten().shape"
   ]
  },
  {
   "cell_type": "code",
   "execution_count": 23,
   "id": "e47058c2",
   "metadata": {},
   "outputs": [],
   "source": [
    "a = torch.arange(200).cuda()"
   ]
  },
  {
   "cell_type": "code",
   "execution_count": 25,
   "id": "3e17e77f",
   "metadata": {},
   "outputs": [
    {
     "data": {
      "text/plain": [
       "torch.Size([1, 1, 31])"
      ]
     },
     "execution_count": 25,
     "metadata": {},
     "output_type": "execute_result"
    }
   ],
   "source": [
    "a[spec_top_index].shape"
   ]
  },
  {
   "cell_type": "code",
   "execution_count": 34,
   "id": "8dd4b095",
   "metadata": {},
   "outputs": [],
   "source": [
    "ori_attn_value = ori_attn[0][:,0,0,spec_top_index]"
   ]
  },
  {
   "cell_type": "code",
   "execution_count": 35,
   "id": "6d139b62",
   "metadata": {},
   "outputs": [],
   "source": [
    "ori_attn_value=ori_attn_value.squeeze()"
   ]
  },
  {
   "cell_type": "code",
   "execution_count": 42,
   "id": "6d6fd700",
   "metadata": {},
   "outputs": [
    {
     "data": {
      "text/plain": [
       "tensor([0.8413, 0.9126, 0.9702, 0.6606, 0.8052, 0.9414, 0.9214, 0.8374, 0.8228,\n",
       "        0.5332, 0.6606, 0.6216, 0.7568, 0.4402, 0.6255, 0.9028, 0.6357, 0.9399,\n",
       "        0.5229, 0.9282, 0.6558, 0.8960, 0.8574, 0.9512, 0.9697, 0.9224, 0.5752,\n",
       "        0.9316, 0.7671, 0.9785, 0.4785, 0.8818], device='cuda:0',\n",
       "       dtype=torch.float16)"
      ]
     },
     "execution_count": 42,
     "metadata": {},
     "output_type": "execute_result"
    }
   ],
   "source": [
    "torch.sum(ori_attn_value,dim=-1)"
   ]
  },
  {
   "cell_type": "code",
   "execution_count": 40,
   "id": "f209c171",
   "metadata": {},
   "outputs": [
    {
     "data": {
      "text/plain": [
       "tensor(0.8413, device='cuda:0', dtype=torch.float16)"
      ]
     },
     "execution_count": 40,
     "metadata": {},
     "output_type": "execute_result"
    }
   ],
   "source": [
    "torch.sum(ori_attn_value[0])"
   ]
  },
  {
   "cell_type": "code",
   "execution_count": 33,
   "id": "2248b348",
   "metadata": {},
   "outputs": [
    {
     "data": {
      "text/plain": [
       "tensor([0.])"
      ]
     },
     "execution_count": 33,
     "metadata": {},
     "output_type": "execute_result"
    }
   ],
   "source": [
    "torch.unique(torch.zeros(1,10))"
   ]
  },
  {
   "cell_type": "code",
   "execution_count": 6,
   "id": "b432790f",
   "metadata": {},
   "outputs": [
    {
     "data": {
      "text/plain": [
       "'The capital country city largest Capital official national answer main primary'"
      ]
     },
     "execution_count": 6,
     "metadata": {},
     "output_type": "execute_result"
    }
   ],
   "source": [
    "tokenizer.decode([  791,  6864,  3224,  3363,  7928, 18880,  4033,  5426,  4320,  1925,\n",
    "          6156])"
   ]
  },
  {
   "cell_type": "code",
   "execution_count": 9,
   "id": "173d4ad8",
   "metadata": {},
   "outputs": [
    {
     "data": {
      "text/plain": [
       "'<|begin_of_text|>'"
      ]
     },
     "execution_count": 9,
     "metadata": {},
     "output_type": "execute_result"
    }
   ],
   "source": [
    "tokenizer.decode([128000])"
   ]
  },
  {
   "cell_type": "code",
   "execution_count": 8,
   "id": "9aea398e",
   "metadata": {},
   "outputs": [
    {
     "data": {
      "text/plain": [
       "[128000, 791, 6864, 315, 5734, 374, 27647, 13]"
      ]
     },
     "execution_count": 8,
     "metadata": {},
     "output_type": "execute_result"
    }
   ],
   "source": [
    "tokenizer.encode(\"The capital of China is Beijing.\")"
   ]
  },
  {
   "cell_type": "code",
   "execution_count": null,
   "id": "c0cb189e",
   "metadata": {},
   "outputs": [],
   "source": []
  }
 ],
 "metadata": {
  "kernelspec": {
   "display_name": "speckv",
   "language": "python",
   "name": "python3"
  },
  "language_info": {
   "codemirror_mode": {
    "name": "ipython",
    "version": 3
   },
   "file_extension": ".py",
   "mimetype": "text/x-python",
   "name": "python",
   "nbconvert_exporter": "python",
   "pygments_lexer": "ipython3",
   "version": "3.12.0"
  }
 },
 "nbformat": 4,
 "nbformat_minor": 5
}
